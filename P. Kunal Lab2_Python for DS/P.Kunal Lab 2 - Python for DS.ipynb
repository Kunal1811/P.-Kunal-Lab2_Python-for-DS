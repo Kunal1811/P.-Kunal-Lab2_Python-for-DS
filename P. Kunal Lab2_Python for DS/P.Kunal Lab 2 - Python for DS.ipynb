{
  "metadata": {
    "colab": {
      "name": "W3 - W6 Lab Session.ipynb",
      "provenance": []
    },
    "kernelspec": {
      "name": "python",
      "display_name": "Python (Pyodide)",
      "language": "python"
    },
    "language_info": {
      "codemirror_mode": {
        "name": "ipython",
        "version": 3
      },
      "file_extension": ".py",
      "mimetype": "text/x-python",
      "name": "python",
      "nbconvert_exporter": "python",
      "pygments_lexer": "ipython3",
      "version": "3.9.13"
    }
  },
  "nbformat_minor": 5,
  "nbformat": 4,
  "cells": [
    {
      "cell_type": "markdown",
      "source": "## Lab Session ",
      "metadata": {
        "id": "1bd3906b"
      },
      "id": "1bd3906b"
    },
    {
      "cell_type": "markdown",
      "source": "### Learning Objective:\n- Working with data using python libaries.\n- Data Visualization.\n- Exploratory data analysis and data preprocessing.\n- Building a Linear regression model to predict the tip amount based on different input features.",
      "metadata": {
        "id": "ccfb2855"
      },
      "id": "ccfb2855"
    },
    {
      "cell_type": "markdown",
      "source": "### About the dataset (Customer Tip Data)\n\n#### Dataset Source: https://www.kaggle.com/datasets/ranjeetjain3/seaborn-tips-dataset\n\nThe dataset contains information about the 244 orders served at a restaurant in the United States. Each observation includes the factors related to the order like total bill, time, the total number of people in a group, gender of the person paying for the order and so on.\n\n#### Attribute Information:\n\n- **total_bill:** Total bill (cost of the meal), including tax, in US dollars\n- **tip:** Tip in US dollars\n- **sex:** Sex of person paying for the meal\n- **smoker:** There is a smoker in a group or not\n- **day:** Day on which the order is served\n- **time:** Time of the order\n- **size:** Size of the group\n\nFood servers’ tips in restaurants may be influenced by many factors, including the nature of the restaurant, size of the party, and table locations in the restaurant. Restaurant managers need to know which factors matter when they assign tables to food servers. For the sake of staff morale, they usually want to avoid either the substance or the appearance of unfair\ntreatment of the servers, for whom tips (at least in restaurants in the UnitedStates) are a major component of pay.",
      "metadata": {
        "id": "61ef0de3"
      },
      "id": "61ef0de3"
    },
    {
      "cell_type": "markdown",
      "source": "### Import required libraries",
      "metadata": {
        "id": "e4e44e06"
      },
      "id": "e4e44e06"
    },
    {
      "cell_type": "code",
      "source": "import pandas as pd\nimport numpy as np\nimport seaborn as sns\nimport matplotlib.pyplot as plt\nfrom sklearn.preprocessing import MinMaxScaler\nfrom sklearn.model_selection import train_test_split\nfrom sklearn.linear_model import LinearRegression\nfrom sklearn.metrics import r2_score\n%matplotlib inline\nimport warnings\nwarnings.filterwarnings('ignore')",
      "metadata": {
        "id": "89b9d6d7"
      },
      "execution_count": 1,
      "outputs": [],
      "id": "89b9d6d7"
    },
    {
      "cell_type": "markdown",
      "source": "### Load the dataset",
      "metadata": {
        "id": "9ead3dea"
      },
      "id": "9ead3dea"
    },
    {
      "cell_type": "code",
      "source": "df = pd.read_csv('tips.csv')\ndf.head()",
      "metadata": {
        "id": "a9ba115f"
      },
      "execution_count": 3,
      "outputs": [
        {
          "execution_count": 3,
          "output_type": "execute_result",
          "data": {
            "text/html": [
              "<div>\n",
              "<style scoped>\n",
              "    .dataframe tbody tr th:only-of-type {\n",
              "        vertical-align: middle;\n",
              "    }\n",
              "\n",
              "    .dataframe tbody tr th {\n",
              "        vertical-align: top;\n",
              "    }\n",
              "\n",
              "    .dataframe thead th {\n",
              "        text-align: right;\n",
              "    }\n",
              "</style>\n",
              "<table border=\"1\" class=\"dataframe\">\n",
              "  <thead>\n",
              "    <tr style=\"text-align: right;\">\n",
              "      <th></th>\n",
              "      <th>total_bill</th>\n",
              "      <th>tip</th>\n",
              "      <th>sex</th>\n",
              "      <th>smoker</th>\n",
              "      <th>day</th>\n",
              "      <th>time</th>\n",
              "      <th>size</th>\n",
              "    </tr>\n",
              "  </thead>\n",
              "  <tbody>\n",
              "    <tr>\n",
              "      <th>0</th>\n",
              "      <td>16.99</td>\n",
              "      <td>1.01</td>\n",
              "      <td>Female</td>\n",
              "      <td>No</td>\n",
              "      <td>Sun</td>\n",
              "      <td>Dinner</td>\n",
              "      <td>2</td>\n",
              "    </tr>\n",
              "    <tr>\n",
              "      <th>1</th>\n",
              "      <td>10.34</td>\n",
              "      <td>1.66</td>\n",
              "      <td>Male</td>\n",
              "      <td>No</td>\n",
              "      <td>Sun</td>\n",
              "      <td>Dinner</td>\n",
              "      <td>3</td>\n",
              "    </tr>\n",
              "    <tr>\n",
              "      <th>2</th>\n",
              "      <td>21.01</td>\n",
              "      <td>3.50</td>\n",
              "      <td>Male</td>\n",
              "      <td>No</td>\n",
              "      <td>Sun</td>\n",
              "      <td>Dinner</td>\n",
              "      <td>3</td>\n",
              "    </tr>\n",
              "    <tr>\n",
              "      <th>3</th>\n",
              "      <td>23.68</td>\n",
              "      <td>3.31</td>\n",
              "      <td>Male</td>\n",
              "      <td>No</td>\n",
              "      <td>Sun</td>\n",
              "      <td>Dinner</td>\n",
              "      <td>2</td>\n",
              "    </tr>\n",
              "    <tr>\n",
              "      <th>4</th>\n",
              "      <td>24.59</td>\n",
              "      <td>3.61</td>\n",
              "      <td>Female</td>\n",
              "      <td>No</td>\n",
              "      <td>Sun</td>\n",
              "      <td>Dinner</td>\n",
              "      <td>4</td>\n",
              "    </tr>\n",
              "  </tbody>\n",
              "</table>\n",
              "</div>"
            ],
            "text/plain": [
              "   total_bill   tip     sex smoker  day    time  size\n",
              "0       16.99  1.01  Female     No  Sun  Dinner     2\n",
              "1       10.34  1.66    Male     No  Sun  Dinner     3\n",
              "2       21.01  3.50    Male     No  Sun  Dinner     3\n",
              "3       23.68  3.31    Male     No  Sun  Dinner     2\n",
              "4       24.59  3.61  Female     No  Sun  Dinner     4"
            ]
          },
          "metadata": {}
        }
      ],
      "id": "a9ba115f"
    },
    {
      "cell_type": "markdown",
      "source": "### 1. Make a list of categorical and numerical columns in the data.",
      "metadata": {
        "id": "42cd8e14"
      },
      "id": "42cd8e14"
    },
    {
      "cell_type": "code",
      "source": "# numerical data columns\ndf.select_dtypes(include=np.number).columns",
      "metadata": {
        "id": "abc60524"
      },
      "execution_count": 4,
      "outputs": [
        {
          "execution_count": 4,
          "output_type": "execute_result",
          "data": {
            "text/plain": [
              "Index(['total_bill', 'tip', 'size'], dtype='object')"
            ]
          },
          "metadata": {}
        }
      ],
      "id": "abc60524"
    },
    {
      "cell_type": "code",
      "source": "# categorical data columns\ndf.select_dtypes(include=object).columns",
      "metadata": {},
      "execution_count": 5,
      "outputs": [
        {
          "execution_count": 5,
          "output_type": "execute_result",
          "data": {
            "text/plain": [
              "Index(['sex', 'smoker', 'day', 'time'], dtype='object')"
            ]
          },
          "metadata": {}
        }
      ],
      "id": "19abf079"
    },
    {
      "cell_type": "markdown",
      "source": "### 2. Compute the average bill amount for each day.",
      "metadata": {
        "id": "41ef8841"
      },
      "id": "41ef8841"
    },
    {
      "cell_type": "code",
      "source": "df.groupby('day')['total_bill'].mean()",
      "metadata": {
        "id": "75b5c0f2"
      },
      "execution_count": 6,
      "outputs": [
        {
          "execution_count": 6,
          "output_type": "execute_result",
          "data": {
            "text/plain": [
              "day\n",
              "Fri     17.151579\n",
              "Sat     20.441379\n",
              "Sun     21.410000\n",
              "Thur    17.682742\n",
              "Name: total_bill, dtype: float64"
            ]
          },
          "metadata": {}
        }
      ],
      "id": "75b5c0f2"
    },
    {
      "cell_type": "markdown",
      "source": "### 3. Which gender is more generous in giving tips?",
      "metadata": {
        "id": "18894954"
      },
      "id": "18894954"
    },
    {
      "cell_type": "code",
      "source": "df.groupby('sex')['tip'].mean()",
      "metadata": {
        "id": "f506a83a"
      },
      "execution_count": 7,
      "outputs": [
        {
          "execution_count": 7,
          "output_type": "execute_result",
          "data": {
            "text/plain": [
              "sex\n",
              "Female    2.833448\n",
              "Male      3.089618\n",
              "Name: tip, dtype: float64"
            ]
          },
          "metadata": {}
        }
      ],
      "id": "f506a83a"
    },
    {
      "cell_type": "markdown",
      "source": "<ul>\n    <li>Above data shows that the average tip given by male customers is more than female, hence males can be considered more generous in giving tip.</li>\n</ul>",
      "metadata": {},
      "id": "5f0e7957"
    },
    {
      "cell_type": "markdown",
      "source": "### 4. According to the data, were there more customers for dinner or lunch?",
      "metadata": {
        "id": "984e3dbf"
      },
      "id": "984e3dbf"
    },
    {
      "cell_type": "code",
      "source": "df.groupby('time')['size'].sum()",
      "metadata": {
        "id": "d5cabe95"
      },
      "execution_count": 8,
      "outputs": [
        {
          "execution_count": 8,
          "output_type": "execute_result",
          "data": {
            "text/plain": [
              "time\n",
              "Dinner    463\n",
              "Lunch     164\n",
              "Name: size, dtype: int64"
            ]
          },
          "metadata": {}
        }
      ],
      "id": "d5cabe95"
    },
    {
      "cell_type": "markdown",
      "source": "<ul>\n    <li>We can see that the number of customers were more during dinner time.</li>\n</ul>",
      "metadata": {},
      "id": "a3657527"
    },
    {
      "cell_type": "markdown",
      "source": "### 5. Based on the statistical summary, comment on the variable 'tip'",
      "metadata": {
        "id": "6cd773f0"
      },
      "id": "6cd773f0"
    },
    {
      "cell_type": "code",
      "source": "df['tip'].describe()",
      "metadata": {
        "id": "6ba68900"
      },
      "execution_count": 9,
      "outputs": [
        {
          "execution_count": 9,
          "output_type": "execute_result",
          "data": {
            "text/plain": [
              "count    244.000000\n",
              "mean       2.998279\n",
              "std        1.383638\n",
              "min        1.000000\n",
              "25%        2.000000\n",
              "50%        2.900000\n",
              "75%        3.562500\n",
              "max       10.000000\n",
              "Name: tip, dtype: float64"
            ]
          },
          "metadata": {}
        }
      ],
      "id": "6ba68900"
    },
    {
      "cell_type": "markdown",
      "source": "<ul>\n    <li>Maximum tip received is \\$10.</li>\n    <li>Minimum tip received is \\$1.</li>\n    <li>Average and median tip received is around \\$3.</li>\n    <li>Maximum tip received is \\$10.</li>\n    <li>Count shows all the rows which means there were no customers who gave zero or nil tip.</li>\n</ul>",
      "metadata": {},
      "id": "d5437e25"
    },
    {
      "cell_type": "markdown",
      "source": "### 6. Find the busiest day in terms of the orders?",
      "metadata": {
        "id": "d9c31198"
      },
      "id": "d9c31198"
    },
    {
      "cell_type": "code",
      "source": "df.groupby('day')['total_bill'].sum().sort_values(ascending=False)",
      "metadata": {
        "id": "c3d6ee67"
      },
      "execution_count": 10,
      "outputs": [
        {
          "execution_count": 10,
          "output_type": "execute_result",
          "data": {
            "text/plain": [
              "day\n",
              "Sat     1778.40\n",
              "Sun     1627.16\n",
              "Thur    1096.33\n",
              "Fri      325.88\n",
              "Name: total_bill, dtype: float64"
            ]
          },
          "metadata": {}
        }
      ],
      "id": "c3d6ee67"
    },
    {
      "cell_type": "markdown",
      "source": "<ul>\n    <li>In terms of orders, highest total order value was on Saturday, so it can be considered as the busiest day.</li>\n</ul>",
      "metadata": {},
      "id": "d894bffd"
    },
    {
      "cell_type": "markdown",
      "source": "### 7. Is the variable 'total_bill' skewed? If yes, identify the type of skewness. Support your answer with a plot",
      "metadata": {
        "id": "f01ba5cf"
      },
      "id": "f01ba5cf"
    },
    {
      "cell_type": "code",
      "source": "df['total_bill'].skew()",
      "metadata": {},
      "execution_count": 11,
      "outputs": [
        {
          "execution_count": 11,
          "output_type": "execute_result",
          "data": {
            "text/plain": [
              "1.1332130376158205"
            ]
          },
          "metadata": {}
        }
      ],
      "id": "db834dd9"
    },
    {
      "cell_type": "code",
      "source": "sns.distplot(df['total_bill'])",
      "metadata": {
        "id": "05a8b7c2"
      },
      "execution_count": 12,
      "outputs": [
        {
          "execution_count": 12,
          "output_type": "execute_result",
          "data": {
            "text/plain": [
              "<AxesSubplot:xlabel='total_bill', ylabel='Density'>"
            ]
          },
          "metadata": {}
        },
        {
          "output_type": "display_data",
          "data": {
            "image/png": "[encoded data removed]",
            "text/plain": [
              "<Figure size 640x480 with 1 Axes>"
            ]
          },
          "metadata": {}
        }
      ],
      "id": "05a8b7c2"
    },
    {
      "cell_type": "markdown",
      "source": "<ul>\n    <li>From the plot of 'total_bill' that deviates more from normal distribution towards the right, and the skewness being a positive vaue, we can infer that variable 'total_bill' is positively skewed.</li>\n</ul>",
      "metadata": {},
      "id": "c4613e62"
    },
    {
      "cell_type": "markdown",
      "source": "### 8. Is the tip amount dependent on the total bill? Visualize the relationship with a appropriate plot and metric and write your findings.",
      "metadata": {
        "id": "0fe8fa86"
      },
      "id": "0fe8fa86"
    },
    {
      "cell_type": "code",
      "source": "df[['tip', 'total_bill']].corr()",
      "metadata": {
        "id": "d45c2da4"
      },
      "execution_count": 13,
      "outputs": [
        {
          "execution_count": 13,
          "output_type": "execute_result",
          "data": {
            "text/html": [
              "<div>\n",
              "<style scoped>\n",
              "    .dataframe tbody tr th:only-of-type {\n",
              "        vertical-align: middle;\n",
              "    }\n",
              "\n",
              "    .dataframe tbody tr th {\n",
              "        vertical-align: top;\n",
              "    }\n",
              "\n",
              "    .dataframe thead th {\n",
              "        text-align: right;\n",
              "    }\n",
              "</style>\n",
              "<table border=\"1\" class=\"dataframe\">\n",
              "  <thead>\n",
              "    <tr style=\"text-align: right;\">\n",
              "      <th></th>\n",
              "      <th>tip</th>\n",
              "      <th>total_bill</th>\n",
              "    </tr>\n",
              "  </thead>\n",
              "  <tbody>\n",
              "    <tr>\n",
              "      <th>tip</th>\n",
              "      <td>1.000000</td>\n",
              "      <td>0.675734</td>\n",
              "    </tr>\n",
              "    <tr>\n",
              "      <th>total_bill</th>\n",
              "      <td>0.675734</td>\n",
              "      <td>1.000000</td>\n",
              "    </tr>\n",
              "  </tbody>\n",
              "</table>\n",
              "</div>"
            ],
            "text/plain": [
              "                 tip  total_bill\n",
              "tip         1.000000    0.675734\n",
              "total_bill  0.675734    1.000000"
            ]
          },
          "metadata": {}
        }
      ],
      "id": "d45c2da4"
    },
    {
      "cell_type": "code",
      "source": "sns.regplot(data=df, x='total_bill', y='tip')",
      "metadata": {},
      "execution_count": 14,
      "outputs": [
        {
          "execution_count": 14,
          "output_type": "execute_result",
          "data": {
            "text/plain": [
              "<AxesSubplot:xlabel='total_bill', ylabel='tip'>"
            ]
          },
          "metadata": {}
        },
        {
          "output_type": "display_data",
          "data": {
            "image/png": "[encoded data removed]",
            "text/plain": [
              "<Figure size 640x480 with 1 Axes>"
            ]
          },
          "metadata": {}
        }
      ],
      "id": "f40e81ba"
    },
    {
      "cell_type": "markdown",
      "source": "<ul>\n    <li>From the values of correlation coefficient being between 0.5 and 0.7, the two variables 'tip' and 'total_bill' can be considered moderately correlated.</li>\n    <li>From the regression plot, the slope of the regression line indicates a positive linear relationship between the two variables 'tip' and 'total_bill'.</li>\n</ul>",
      "metadata": {},
      "id": "f6fd2a83"
    },
    {
      "cell_type": "markdown",
      "source": "### 9. What is the percentage of males and females in the dataset? and display it in the plot",
      "metadata": {
        "id": "2469e9cc"
      },
      "id": "2469e9cc"
    },
    {
      "cell_type": "code",
      "source": "# calculcating percentage of males and females in dataset\n\ndf_percent_sex = df['sex'].value_counts(normalize=True) *100\ndf_percent_sex",
      "metadata": {
        "id": "0dfd6414"
      },
      "execution_count": 14,
      "outputs": [
        {
          "execution_count": 14,
          "output_type": "execute_result",
          "data": {
            "text/plain": [
              "Male      64.344262\n",
              "Female    35.655738\n",
              "Name: sex, dtype: float64"
            ]
          },
          "metadata": {}
        }
      ],
      "id": "0dfd6414"
    },
    {
      "cell_type": "code",
      "source": "# pie chart showing the percentage in a plot\n\ndf_percent_sex.plot(kind='pie', autopct='%1.2f%%') ",
      "metadata": {},
      "execution_count": 15,
      "outputs": [
        {
          "execution_count": 15,
          "output_type": "execute_result",
          "data": {
            "text/plain": [
              "<AxesSubplot:ylabel='sex'>"
            ]
          },
          "metadata": {}
        },
        {
          "output_type": "display_data",
          "data": {
            "image/png": "[encoded data removed]",
            "text/plain": [
              "<Figure size 640x480 with 1 Axes>"
            ]
          },
          "metadata": {}
        }
      ],
      "id": "80b7333d"
    },
    {
      "cell_type": "markdown",
      "source": "### 10. Compute the gender-wise count based on smoking habits and display it in the plot",
      "metadata": {
        "id": "35e7f9bb"
      },
      "id": "35e7f9bb"
    },
    {
      "cell_type": "code",
      "source": "# getting gender wise count of smokers and non-smokers\nsmoker_count = pd.crosstab(df['sex'], df['smoker'])\nsmoker_count",
      "metadata": {
        "id": "a266dd22"
      },
      "execution_count": 16,
      "outputs": [
        {
          "execution_count": 16,
          "output_type": "execute_result",
          "data": {
            "text/html": [
              "<div>\n",
              "<style scoped>\n",
              "    .dataframe tbody tr th:only-of-type {\n",
              "        vertical-align: middle;\n",
              "    }\n",
              "\n",
              "    .dataframe tbody tr th {\n",
              "        vertical-align: top;\n",
              "    }\n",
              "\n",
              "    .dataframe thead th {\n",
              "        text-align: right;\n",
              "    }\n",
              "</style>\n",
              "<table border=\"1\" class=\"dataframe\">\n",
              "  <thead>\n",
              "    <tr style=\"text-align: right;\">\n",
              "      <th>smoker</th>\n",
              "      <th>No</th>\n",
              "      <th>Yes</th>\n",
              "    </tr>\n",
              "    <tr>\n",
              "      <th>sex</th>\n",
              "      <th></th>\n",
              "      <th></th>\n",
              "    </tr>\n",
              "  </thead>\n",
              "  <tbody>\n",
              "    <tr>\n",
              "      <th>Female</th>\n",
              "      <td>54</td>\n",
              "      <td>33</td>\n",
              "    </tr>\n",
              "    <tr>\n",
              "      <th>Male</th>\n",
              "      <td>97</td>\n",
              "      <td>60</td>\n",
              "    </tr>\n",
              "  </tbody>\n",
              "</table>\n",
              "</div>"
            ],
            "text/plain": [
              "smoker  No  Yes\n",
              "sex            \n",
              "Female  54   33\n",
              "Male    97   60"
            ]
          },
          "metadata": {}
        }
      ],
      "id": "a266dd22"
    },
    {
      "cell_type": "code",
      "source": "# displaying the count in a plot\nsmoker_count.plot(kind='bar')",
      "metadata": {},
      "execution_count": 17,
      "outputs": [
        {
          "execution_count": 17,
          "output_type": "execute_result",
          "data": {
            "text/plain": [
              "<AxesSubplot:xlabel='sex'>"
            ]
          },
          "metadata": {}
        },
        {
          "output_type": "display_data",
          "data": {
            "image/png": "[encoded data removed]",
            "text/plain": [
              "<Figure size 640x480 with 1 Axes>"
            ]
          },
          "metadata": {}
        }
      ],
      "id": "b77b4c8a"
    },
    {
      "cell_type": "markdown",
      "source": "### 11. Compute the average tip amount given for different days and display it in the plot.",
      "metadata": {
        "id": "1f8ba505"
      },
      "id": "1f8ba505"
    },
    {
      "cell_type": "code",
      "source": "df_tip_days = df.groupby('day')['tip'].mean()\ndf_tip_days",
      "metadata": {
        "id": "13ae2148"
      },
      "execution_count": 18,
      "outputs": [
        {
          "execution_count": 18,
          "output_type": "execute_result",
          "data": {
            "text/plain": [
              "day\n",
              "Fri     2.734737\n",
              "Sat     2.993103\n",
              "Sun     3.255132\n",
              "Thur    2.771452\n",
              "Name: tip, dtype: float64"
            ]
          },
          "metadata": {}
        }
      ],
      "id": "13ae2148"
    },
    {
      "cell_type": "code",
      "source": "sns.barplot(data=df, x='day', y='tip', ci=False)",
      "metadata": {},
      "execution_count": 19,
      "outputs": [
        {
          "execution_count": 19,
          "output_type": "execute_result",
          "data": {
            "text/plain": [
              "<AxesSubplot:xlabel='day', ylabel='tip'>"
            ]
          },
          "metadata": {}
        },
        {
          "output_type": "display_data",
          "data": {
            "image/png": "[encoded data removed]",
            "text/plain": [
              "<Figure size 640x480 with 1 Axes>"
            ]
          },
          "metadata": {}
        }
      ],
      "id": "3f6bc6d5"
    },
    {
      "cell_type": "markdown",
      "source": "### 12. Is the average bill amount dependent on the size of the group? Visualize the relationship using appropriate plot and write your findings.",
      "metadata": {
        "id": "873f97a5"
      },
      "id": "873f97a5"
    },
    {
      "cell_type": "code",
      "source": "sns.lineplot(data=df, x='size', y='total_bill', estimator=np.mean, ci=False)",
      "metadata": {
        "id": "07f676ad"
      },
      "execution_count": 20,
      "outputs": [
        {
          "execution_count": 20,
          "output_type": "execute_result",
          "data": {
            "text/plain": [
              "<AxesSubplot:xlabel='size', ylabel='total_bill'>"
            ]
          },
          "metadata": {}
        },
        {
          "output_type": "display_data",
          "data": {
            "image/png": "[encoded data removed]",
            "text/plain": [
              "<Figure size 640x480 with 1 Axes>"
            ]
          },
          "metadata": {}
        }
      ],
      "id": "07f676ad"
    },
    {
      "cell_type": "markdown",
      "source": "<ul>\n    <li>From the plot of 'total_bill' vs 'size', we can conclude that the total bill amount is directly proportional to the size of the group.</li>\n</ul>",
      "metadata": {},
      "id": "2e0bca67"
    },
    {
      "cell_type": "markdown",
      "source": "### 13. Plot a horizontal boxplot to compare the bill amount based on gender",
      "metadata": {
        "id": "566ae9fe"
      },
      "id": "566ae9fe"
    },
    {
      "cell_type": "code",
      "source": "sns.boxplot(data=df, x='total_bill', y='sex', orient='h')",
      "metadata": {
        "id": "5957b3aa"
      },
      "execution_count": 21,
      "outputs": [
        {
          "execution_count": 21,
          "output_type": "execute_result",
          "data": {
            "text/plain": [
              "<AxesSubplot:xlabel='total_bill', ylabel='sex'>"
            ]
          },
          "metadata": {}
        },
        {
          "output_type": "display_data",
          "data": {
            "image/png": "[encoded data removed]",
            "text/plain": [
              "<Figure size 640x480 with 1 Axes>"
            ]
          },
          "metadata": {}
        }
      ],
      "id": "5957b3aa"
    },
    {
      "cell_type": "markdown",
      "source": "### 14. Find the maximum bill amount for lunch and dinner on Saturday and Sunday",
      "metadata": {
        "id": "5bc13310"
      },
      "id": "5bc13310"
    },
    {
      "cell_type": "code",
      "source": "# filtering dataframe with Saturday and Sunday only\ndf1 = df.loc[(df[\"day\"]=='Sat') | (df[\"day\"]=='Sun')]\n\n# finding max value for lunch and dinner on new dataframe\ndf1.groupby(['day', 'time'])['total_bill'].max()",
      "metadata": {
        "id": "06f56d22"
      },
      "execution_count": 22,
      "outputs": [
        {
          "execution_count": 22,
          "output_type": "execute_result",
          "data": {
            "text/plain": [
              "day  time  \n",
              "Sat  Dinner    50.81\n",
              "Sun  Dinner    48.17\n",
              "Name: total_bill, dtype: float64"
            ]
          },
          "metadata": {}
        }
      ],
      "id": "06f56d22"
    },
    {
      "cell_type": "markdown",
      "source": "### 15. Compute the percentage of missing values in the dataset.",
      "metadata": {
        "id": "aa484774"
      },
      "id": "aa484774"
    },
    {
      "cell_type": "code",
      "source": "(df.isnull().sum() / len(df)) * 100",
      "metadata": {
        "id": "5c9bf12e"
      },
      "execution_count": 23,
      "outputs": [
        {
          "execution_count": 23,
          "output_type": "execute_result",
          "data": {
            "text/plain": [
              "total_bill    0.0\n",
              "tip           0.0\n",
              "sex           0.0\n",
              "smoker        0.0\n",
              "day           0.0\n",
              "time          0.0\n",
              "size          0.0\n",
              "dtype: float64"
            ]
          },
          "metadata": {}
        }
      ],
      "id": "5c9bf12e"
    },
    {
      "cell_type": "markdown",
      "source": "<ul>\n    <li>There are no missing values (0%) in the dataset.</li>\n</ul>",
      "metadata": {},
      "id": "ae643f09"
    },
    {
      "cell_type": "markdown",
      "source": "### 16. Is there are any duplicate records in the dataset? If yes compute the count of the duplicate records and drop them.",
      "metadata": {
        "id": "abfaf333"
      },
      "id": "abfaf333"
    },
    {
      "cell_type": "code",
      "source": "# checking for duplicates\ndf[df.duplicated()]",
      "metadata": {
        "id": "751f4641",
        "scrolled": true
      },
      "execution_count": 24,
      "outputs": [
        {
          "execution_count": 24,
          "output_type": "execute_result",
          "data": {
            "text/html": [
              "<div>\n",
              "<style scoped>\n",
              "    .dataframe tbody tr th:only-of-type {\n",
              "        vertical-align: middle;\n",
              "    }\n",
              "\n",
              "    .dataframe tbody tr th {\n",
              "        vertical-align: top;\n",
              "    }\n",
              "\n",
              "    .dataframe thead th {\n",
              "        text-align: right;\n",
              "    }\n",
              "</style>\n",
              "<table border=\"1\" class=\"dataframe\">\n",
              "  <thead>\n",
              "    <tr style=\"text-align: right;\">\n",
              "      <th></th>\n",
              "      <th>total_bill</th>\n",
              "      <th>tip</th>\n",
              "      <th>sex</th>\n",
              "      <th>smoker</th>\n",
              "      <th>day</th>\n",
              "      <th>time</th>\n",
              "      <th>size</th>\n",
              "    </tr>\n",
              "  </thead>\n",
              "  <tbody>\n",
              "    <tr>\n",
              "      <th>202</th>\n",
              "      <td>13.0</td>\n",
              "      <td>2.0</td>\n",
              "      <td>Female</td>\n",
              "      <td>Yes</td>\n",
              "      <td>Thur</td>\n",
              "      <td>Lunch</td>\n",
              "      <td>2</td>\n",
              "    </tr>\n",
              "  </tbody>\n",
              "</table>\n",
              "</div>"
            ],
            "text/plain": [
              "     total_bill  tip     sex smoker   day   time  size\n",
              "202        13.0  2.0  Female    Yes  Thur  Lunch     2"
            ]
          },
          "metadata": {}
        }
      ],
      "id": "751f4641"
    },
    {
      "cell_type": "markdown",
      "source": "<ul>\n    <li>Entry 202 is the only duplicate record in the dataset.</li>\n</ul>",
      "metadata": {},
      "id": "5718d7cc"
    },
    {
      "cell_type": "code",
      "source": "# dropping duplicates\ndf_new = df.drop_duplicates()\ndf_new",
      "metadata": {},
      "execution_count": 25,
      "outputs": [
        {
          "execution_count": 25,
          "output_type": "execute_result",
          "data": {
            "text/html": [
              "<div>\n",
              "<style scoped>\n",
              "    .dataframe tbody tr th:only-of-type {\n",
              "        vertical-align: middle;\n",
              "    }\n",
              "\n",
              "    .dataframe tbody tr th {\n",
              "        vertical-align: top;\n",
              "    }\n",
              "\n",
              "    .dataframe thead th {\n",
              "        text-align: right;\n",
              "    }\n",
              "</style>\n",
              "<table border=\"1\" class=\"dataframe\">\n",
              "  <thead>\n",
              "    <tr style=\"text-align: right;\">\n",
              "      <th></th>\n",
              "      <th>total_bill</th>\n",
              "      <th>tip</th>\n",
              "      <th>sex</th>\n",
              "      <th>smoker</th>\n",
              "      <th>day</th>\n",
              "      <th>time</th>\n",
              "      <th>size</th>\n",
              "    </tr>\n",
              "  </thead>\n",
              "  <tbody>\n",
              "    <tr>\n",
              "      <th>0</th>\n",
              "      <td>16.99</td>\n",
              "      <td>1.01</td>\n",
              "      <td>Female</td>\n",
              "      <td>No</td>\n",
              "      <td>Sun</td>\n",
              "      <td>Dinner</td>\n",
              "      <td>2</td>\n",
              "    </tr>\n",
              "    <tr>\n",
              "      <th>1</th>\n",
              "      <td>10.34</td>\n",
              "      <td>1.66</td>\n",
              "      <td>Male</td>\n",
              "      <td>No</td>\n",
              "      <td>Sun</td>\n",
              "      <td>Dinner</td>\n",
              "      <td>3</td>\n",
              "    </tr>\n",
              "    <tr>\n",
              "      <th>2</th>\n",
              "      <td>21.01</td>\n",
              "      <td>3.50</td>\n",
              "      <td>Male</td>\n",
              "      <td>No</td>\n",
              "      <td>Sun</td>\n",
              "      <td>Dinner</td>\n",
              "      <td>3</td>\n",
              "    </tr>\n",
              "    <tr>\n",
              "      <th>3</th>\n",
              "      <td>23.68</td>\n",
              "      <td>3.31</td>\n",
              "      <td>Male</td>\n",
              "      <td>No</td>\n",
              "      <td>Sun</td>\n",
              "      <td>Dinner</td>\n",
              "      <td>2</td>\n",
              "    </tr>\n",
              "    <tr>\n",
              "      <th>4</th>\n",
              "      <td>24.59</td>\n",
              "      <td>3.61</td>\n",
              "      <td>Female</td>\n",
              "      <td>No</td>\n",
              "      <td>Sun</td>\n",
              "      <td>Dinner</td>\n",
              "      <td>4</td>\n",
              "    </tr>\n",
              "    <tr>\n",
              "      <th>...</th>\n",
              "      <td>...</td>\n",
              "      <td>...</td>\n",
              "      <td>...</td>\n",
              "      <td>...</td>\n",
              "      <td>...</td>\n",
              "      <td>...</td>\n",
              "      <td>...</td>\n",
              "    </tr>\n",
              "    <tr>\n",
              "      <th>239</th>\n",
              "      <td>29.03</td>\n",
              "      <td>5.92</td>\n",
              "      <td>Male</td>\n",
              "      <td>No</td>\n",
              "      <td>Sat</td>\n",
              "      <td>Dinner</td>\n",
              "      <td>3</td>\n",
              "    </tr>\n",
              "    <tr>\n",
              "      <th>240</th>\n",
              "      <td>27.18</td>\n",
              "      <td>2.00</td>\n",
              "      <td>Female</td>\n",
              "      <td>Yes</td>\n",
              "      <td>Sat</td>\n",
              "      <td>Dinner</td>\n",
              "      <td>2</td>\n",
              "    </tr>\n",
              "    <tr>\n",
              "      <th>241</th>\n",
              "      <td>22.67</td>\n",
              "      <td>2.00</td>\n",
              "      <td>Male</td>\n",
              "      <td>Yes</td>\n",
              "      <td>Sat</td>\n",
              "      <td>Dinner</td>\n",
              "      <td>2</td>\n",
              "    </tr>\n",
              "    <tr>\n",
              "      <th>242</th>\n",
              "      <td>17.82</td>\n",
              "      <td>1.75</td>\n",
              "      <td>Male</td>\n",
              "      <td>No</td>\n",
              "      <td>Sat</td>\n",
              "      <td>Dinner</td>\n",
              "      <td>2</td>\n",
              "    </tr>\n",
              "    <tr>\n",
              "      <th>243</th>\n",
              "      <td>18.78</td>\n",
              "      <td>3.00</td>\n",
              "      <td>Female</td>\n",
              "      <td>No</td>\n",
              "      <td>Thur</td>\n",
              "      <td>Dinner</td>\n",
              "      <td>2</td>\n",
              "    </tr>\n",
              "  </tbody>\n",
              "</table>\n",
              "<p>243 rows × 7 columns</p>\n",
              "</div>"
            ],
            "text/plain": [
              "     total_bill   tip     sex smoker   day    time  size\n",
              "0         16.99  1.01  Female     No   Sun  Dinner     2\n",
              "1         10.34  1.66    Male     No   Sun  Dinner     3\n",
              "2         21.01  3.50    Male     No   Sun  Dinner     3\n",
              "3         23.68  3.31    Male     No   Sun  Dinner     2\n",
              "4         24.59  3.61  Female     No   Sun  Dinner     4\n",
              "..          ...   ...     ...    ...   ...     ...   ...\n",
              "239       29.03  5.92    Male     No   Sat  Dinner     3\n",
              "240       27.18  2.00  Female    Yes   Sat  Dinner     2\n",
              "241       22.67  2.00    Male    Yes   Sat  Dinner     2\n",
              "242       17.82  1.75    Male     No   Sat  Dinner     2\n",
              "243       18.78  3.00  Female     No  Thur  Dinner     2\n",
              "\n",
              "[243 rows x 7 columns]"
            ]
          },
          "metadata": {}
        }
      ],
      "id": "c8457d3f"
    },
    {
      "cell_type": "markdown",
      "source": "### 17. Is there are any outliers present in the column 'total_bill'? If yes treat them with transformation approach, and plot a boxplot before and after the treatment",
      "metadata": {
        "id": "4aa4a763"
      },
      "id": "4aa4a763"
    },
    {
      "cell_type": "code",
      "source": "# before log transformation treatment\nsns.boxplot(df['total_bill'])",
      "metadata": {
        "id": "c6885f21"
      },
      "execution_count": 26,
      "outputs": [
        {
          "execution_count": 26,
          "output_type": "execute_result",
          "data": {
            "text/plain": [
              "<AxesSubplot:xlabel='total_bill'>"
            ]
          },
          "metadata": {}
        },
        {
          "output_type": "display_data",
          "data": {
            "image/png": "[encoded data removed]",
            "text/plain": [
              "<Figure size 640x480 with 1 Axes>"
            ]
          },
          "metadata": {}
        }
      ],
      "id": "c6885f21"
    },
    {
      "cell_type": "code",
      "source": "# after log transformation treatment\ndf_trans = np.log(df['total_bill'])\nsns.boxplot(df_trans)",
      "metadata": {},
      "execution_count": 27,
      "outputs": [
        {
          "execution_count": 27,
          "output_type": "execute_result",
          "data": {
            "text/plain": [
              "<AxesSubplot:xlabel='total_bill'>"
            ]
          },
          "metadata": {}
        },
        {
          "output_type": "display_data",
          "data": {
            "image/png": "[encoded data removed]",
            "text/plain": [
              "<Figure size 640x480 with 1 Axes>"
            ]
          },
          "metadata": {}
        }
      ],
      "id": "162e8c81"
    },
    {
      "cell_type": "markdown",
      "source": "### 18. Is there are any outliers present in the column 'tip'? If yes remove them using IQR techinque.",
      "metadata": {
        "id": "2e8bfa6f"
      },
      "id": "2e8bfa6f"
    },
    {
      "cell_type": "code",
      "source": "# calculating the IQR\nQ1 = df['tip'].quantile(0.25)\nQ3 = df['tip'].quantile(0.75)\nIQR = Q3 - Q1",
      "metadata": {
        "id": "29d3f9e0"
      },
      "execution_count": 28,
      "outputs": [],
      "id": "29d3f9e0"
    },
    {
      "cell_type": "code",
      "source": "# finding upper and lower limits\nupper = Q3 + 1.5*IQR\nlower = Q1 - 1.5*IQR",
      "metadata": {},
      "execution_count": 29,
      "outputs": [],
      "id": "a4c5148f"
    },
    {
      "cell_type": "code",
      "source": "# removing outliers above upper and below lower limits\ndf_wo_out = df['tip'][(df['tip'] > upper) | (df['tip'] < lower)]",
      "metadata": {},
      "execution_count": 30,
      "outputs": [],
      "id": "68e1fca2"
    },
    {
      "cell_type": "code",
      "source": "# plotting to check the processed data\nsns.boxplot(df_wo_out)",
      "metadata": {},
      "execution_count": 31,
      "outputs": [
        {
          "execution_count": 31,
          "output_type": "execute_result",
          "data": {
            "text/plain": [
              "<AxesSubplot:xlabel='tip'>"
            ]
          },
          "metadata": {}
        },
        {
          "output_type": "display_data",
          "data": {
            "image/png": "[encoded data removed]",
            "text/plain": [
              "<Figure size 640x480 with 1 Axes>"
            ]
          },
          "metadata": {}
        }
      ],
      "id": "4d7e2fad"
    },
    {
      "cell_type": "markdown",
      "source": "### 19. Encode the categorical columns in the dataset and print the random 5 samples from the dataframe.",
      "metadata": {
        "id": "10d91bd7"
      },
      "id": "10d91bd7"
    },
    {
      "cell_type": "code",
      "source": "# selecting categorical columns \ndf_cat = df.select_dtypes(include=['object'])\ndf_cat.head()",
      "metadata": {
        "id": "05ad1918"
      },
      "execution_count": 15,
      "outputs": [
        {
          "execution_count": 15,
          "output_type": "execute_result",
          "data": {
            "text/html": [
              "<div>\n",
              "<style scoped>\n",
              "    .dataframe tbody tr th:only-of-type {\n",
              "        vertical-align: middle;\n",
              "    }\n",
              "\n",
              "    .dataframe tbody tr th {\n",
              "        vertical-align: top;\n",
              "    }\n",
              "\n",
              "    .dataframe thead th {\n",
              "        text-align: right;\n",
              "    }\n",
              "</style>\n",
              "<table border=\"1\" class=\"dataframe\">\n",
              "  <thead>\n",
              "    <tr style=\"text-align: right;\">\n",
              "      <th></th>\n",
              "      <th>sex</th>\n",
              "      <th>smoker</th>\n",
              "      <th>day</th>\n",
              "      <th>time</th>\n",
              "    </tr>\n",
              "  </thead>\n",
              "  <tbody>\n",
              "    <tr>\n",
              "      <th>0</th>\n",
              "      <td>Female</td>\n",
              "      <td>No</td>\n",
              "      <td>Sun</td>\n",
              "      <td>Dinner</td>\n",
              "    </tr>\n",
              "    <tr>\n",
              "      <th>1</th>\n",
              "      <td>Male</td>\n",
              "      <td>No</td>\n",
              "      <td>Sun</td>\n",
              "      <td>Dinner</td>\n",
              "    </tr>\n",
              "    <tr>\n",
              "      <th>2</th>\n",
              "      <td>Male</td>\n",
              "      <td>No</td>\n",
              "      <td>Sun</td>\n",
              "      <td>Dinner</td>\n",
              "    </tr>\n",
              "    <tr>\n",
              "      <th>3</th>\n",
              "      <td>Male</td>\n",
              "      <td>No</td>\n",
              "      <td>Sun</td>\n",
              "      <td>Dinner</td>\n",
              "    </tr>\n",
              "    <tr>\n",
              "      <th>4</th>\n",
              "      <td>Female</td>\n",
              "      <td>No</td>\n",
              "      <td>Sun</td>\n",
              "      <td>Dinner</td>\n",
              "    </tr>\n",
              "  </tbody>\n",
              "</table>\n",
              "</div>"
            ],
            "text/plain": [
              "      sex smoker  day    time\n",
              "0  Female     No  Sun  Dinner\n",
              "1    Male     No  Sun  Dinner\n",
              "2    Male     No  Sun  Dinner\n",
              "3    Male     No  Sun  Dinner\n",
              "4  Female     No  Sun  Dinner"
            ]
          },
          "metadata": {}
        }
      ],
      "id": "05ad1918"
    },
    {
      "cell_type": "code",
      "source": "# one-hot encoding and displaying 5 random samples\npd.get_dummies(df_cat).sample(n=5, axis='rows')",
      "metadata": {},
      "execution_count": 16,
      "outputs": [
        {
          "execution_count": 16,
          "output_type": "execute_result",
          "data": {
            "text/html": [
              "<div>\n",
              "<style scoped>\n",
              "    .dataframe tbody tr th:only-of-type {\n",
              "        vertical-align: middle;\n",
              "    }\n",
              "\n",
              "    .dataframe tbody tr th {\n",
              "        vertical-align: top;\n",
              "    }\n",
              "\n",
              "    .dataframe thead th {\n",
              "        text-align: right;\n",
              "    }\n",
              "</style>\n",
              "<table border=\"1\" class=\"dataframe\">\n",
              "  <thead>\n",
              "    <tr style=\"text-align: right;\">\n",
              "      <th></th>\n",
              "      <th>sex_Female</th>\n",
              "      <th>sex_Male</th>\n",
              "      <th>smoker_No</th>\n",
              "      <th>smoker_Yes</th>\n",
              "      <th>day_Fri</th>\n",
              "      <th>day_Sat</th>\n",
              "      <th>day_Sun</th>\n",
              "      <th>day_Thur</th>\n",
              "      <th>time_Dinner</th>\n",
              "      <th>time_Lunch</th>\n",
              "    </tr>\n",
              "  </thead>\n",
              "  <tbody>\n",
              "    <tr>\n",
              "      <th>114</th>\n",
              "      <td>1</td>\n",
              "      <td>0</td>\n",
              "      <td>1</td>\n",
              "      <td>0</td>\n",
              "      <td>0</td>\n",
              "      <td>0</td>\n",
              "      <td>1</td>\n",
              "      <td>0</td>\n",
              "      <td>1</td>\n",
              "      <td>0</td>\n",
              "    </tr>\n",
              "    <tr>\n",
              "      <th>169</th>\n",
              "      <td>1</td>\n",
              "      <td>0</td>\n",
              "      <td>0</td>\n",
              "      <td>1</td>\n",
              "      <td>0</td>\n",
              "      <td>1</td>\n",
              "      <td>0</td>\n",
              "      <td>0</td>\n",
              "      <td>1</td>\n",
              "      <td>0</td>\n",
              "    </tr>\n",
              "    <tr>\n",
              "      <th>123</th>\n",
              "      <td>0</td>\n",
              "      <td>1</td>\n",
              "      <td>1</td>\n",
              "      <td>0</td>\n",
              "      <td>0</td>\n",
              "      <td>0</td>\n",
              "      <td>0</td>\n",
              "      <td>1</td>\n",
              "      <td>0</td>\n",
              "      <td>1</td>\n",
              "    </tr>\n",
              "    <tr>\n",
              "      <th>35</th>\n",
              "      <td>0</td>\n",
              "      <td>1</td>\n",
              "      <td>1</td>\n",
              "      <td>0</td>\n",
              "      <td>0</td>\n",
              "      <td>1</td>\n",
              "      <td>0</td>\n",
              "      <td>0</td>\n",
              "      <td>1</td>\n",
              "      <td>0</td>\n",
              "    </tr>\n",
              "    <tr>\n",
              "      <th>80</th>\n",
              "      <td>0</td>\n",
              "      <td>1</td>\n",
              "      <td>0</td>\n",
              "      <td>1</td>\n",
              "      <td>0</td>\n",
              "      <td>0</td>\n",
              "      <td>0</td>\n",
              "      <td>1</td>\n",
              "      <td>0</td>\n",
              "      <td>1</td>\n",
              "    </tr>\n",
              "  </tbody>\n",
              "</table>\n",
              "</div>"
            ],
            "text/plain": [
              "     sex_Female  sex_Male  smoker_No  smoker_Yes  day_Fri  day_Sat  day_Sun  \\\n",
              "114           1         0          1           0        0        0        1   \n",
              "169           1         0          0           1        0        1        0   \n",
              "123           0         1          1           0        0        0        0   \n",
              "35            0         1          1           0        0        1        0   \n",
              "80            0         1          0           1        0        0        0   \n",
              "\n",
              "     day_Thur  time_Dinner  time_Lunch  \n",
              "114         0            1           0  \n",
              "169         0            1           0  \n",
              "123         1            0           1  \n",
              "35          0            1           0  \n",
              "80          1            0           1  "
            ]
          },
          "metadata": {}
        }
      ],
      "id": "df5991d8"
    },
    {
      "cell_type": "markdown",
      "source": "### 20. Check the range of the column 'total_bill' and transform the values such that the range will be 1.",
      "metadata": {
        "id": "54ebc8e9"
      },
      "id": "54ebc8e9"
    },
    {
      "cell_type": "code",
      "source": "# checking range of the column 'total_bill'\ndf_min = df['total_bill'].min()\ndf_max = df['total_bill'].max()\nprint('Range of column \"total_bill\" is', df_min, 'to', df_max)",
      "metadata": {
        "id": "fb841382",
        "scrolled": true
      },
      "execution_count": 17,
      "outputs": [
        {
          "name": "stdout",
          "output_type": "stream",
          "text": "Range of column \"total_bill\" is 3.07 to 50.81\n"
        }
      ],
      "id": "fb841382"
    },
    {
      "cell_type": "code",
      "source": "# transforming values of 'total_bill' to a range of 0 to 1\nmm = MinMaxScaler()\ndf_scaled = mm.fit_transform(df[['total_bill']])\ndf_scaled = pd.DataFrame(df_scaled, columns=['total_bill'])\ndf_scaled_min = df_scaled['total_bill'].min()\ndf_scaled_max = df_scaled['total_bill'].max()\nprint('Transformed range of column \"total_bill\" is', df_scaled_min, 'to', df_scaled_max)",
      "metadata": {},
      "execution_count": 18,
      "outputs": [
        {
          "name": "stdout",
          "output_type": "stream",
          "text": "Transformed range of column \"total_bill\" is 0.0 to 0.9999999999999999\n"
        }
      ],
      "id": "fc3dfca5"
    },
    {
      "cell_type": "markdown",
      "source": "### 21. Load the dataset again by giving the name of the dataframe as \"tips_df\"\n- i) Encode the categorical variables.\n- ii) Store the target column (i.e.tip) in the y variable and the rest of the columns in the X variable",
      "metadata": {
        "id": "_yaGehJD5Fhe"
      },
      "id": "_yaGehJD5Fhe"
    },
    {
      "cell_type": "code",
      "source": "# loading dataset as \"tips_df\"\ntips_df = df.copy()\ntips_df.head()",
      "metadata": {},
      "execution_count": 29,
      "outputs": [
        {
          "execution_count": 29,
          "output_type": "execute_result",
          "data": {
            "text/html": [
              "<div>\n",
              "<style scoped>\n",
              "    .dataframe tbody tr th:only-of-type {\n",
              "        vertical-align: middle;\n",
              "    }\n",
              "\n",
              "    .dataframe tbody tr th {\n",
              "        vertical-align: top;\n",
              "    }\n",
              "\n",
              "    .dataframe thead th {\n",
              "        text-align: right;\n",
              "    }\n",
              "</style>\n",
              "<table border=\"1\" class=\"dataframe\">\n",
              "  <thead>\n",
              "    <tr style=\"text-align: right;\">\n",
              "      <th></th>\n",
              "      <th>total_bill</th>\n",
              "      <th>tip</th>\n",
              "      <th>sex</th>\n",
              "      <th>smoker</th>\n",
              "      <th>day</th>\n",
              "      <th>time</th>\n",
              "      <th>size</th>\n",
              "    </tr>\n",
              "  </thead>\n",
              "  <tbody>\n",
              "    <tr>\n",
              "      <th>0</th>\n",
              "      <td>16.99</td>\n",
              "      <td>1.01</td>\n",
              "      <td>Female</td>\n",
              "      <td>No</td>\n",
              "      <td>Sun</td>\n",
              "      <td>Dinner</td>\n",
              "      <td>2</td>\n",
              "    </tr>\n",
              "    <tr>\n",
              "      <th>1</th>\n",
              "      <td>10.34</td>\n",
              "      <td>1.66</td>\n",
              "      <td>Male</td>\n",
              "      <td>No</td>\n",
              "      <td>Sun</td>\n",
              "      <td>Dinner</td>\n",
              "      <td>3</td>\n",
              "    </tr>\n",
              "    <tr>\n",
              "      <th>2</th>\n",
              "      <td>21.01</td>\n",
              "      <td>3.50</td>\n",
              "      <td>Male</td>\n",
              "      <td>No</td>\n",
              "      <td>Sun</td>\n",
              "      <td>Dinner</td>\n",
              "      <td>3</td>\n",
              "    </tr>\n",
              "    <tr>\n",
              "      <th>3</th>\n",
              "      <td>23.68</td>\n",
              "      <td>3.31</td>\n",
              "      <td>Male</td>\n",
              "      <td>No</td>\n",
              "      <td>Sun</td>\n",
              "      <td>Dinner</td>\n",
              "      <td>2</td>\n",
              "    </tr>\n",
              "    <tr>\n",
              "      <th>4</th>\n",
              "      <td>24.59</td>\n",
              "      <td>3.61</td>\n",
              "      <td>Female</td>\n",
              "      <td>No</td>\n",
              "      <td>Sun</td>\n",
              "      <td>Dinner</td>\n",
              "      <td>4</td>\n",
              "    </tr>\n",
              "  </tbody>\n",
              "</table>\n",
              "</div>"
            ],
            "text/plain": [
              "   total_bill   tip     sex smoker  day    time  size\n",
              "0       16.99  1.01  Female     No  Sun  Dinner     2\n",
              "1       10.34  1.66    Male     No  Sun  Dinner     3\n",
              "2       21.01  3.50    Male     No  Sun  Dinner     3\n",
              "3       23.68  3.31    Male     No  Sun  Dinner     2\n",
              "4       24.59  3.61  Female     No  Sun  Dinner     4"
            ]
          },
          "metadata": {}
        }
      ],
      "id": "4732226f"
    },
    {
      "cell_type": "code",
      "source": "# encoding categorical variables\ntips_df_cat_cols = tips_df.select_dtypes(include=['object'])\ntips_df_cat = pd.get_dummies(tips_df_cat_cols, drop_first=True)\ntips_df_cat.head()",
      "metadata": {
        "id": "ruS7FI5s5Jt2"
      },
      "execution_count": 30,
      "outputs": [
        {
          "execution_count": 30,
          "output_type": "execute_result",
          "data": {
            "text/html": [
              "<div>\n",
              "<style scoped>\n",
              "    .dataframe tbody tr th:only-of-type {\n",
              "        vertical-align: middle;\n",
              "    }\n",
              "\n",
              "    .dataframe tbody tr th {\n",
              "        vertical-align: top;\n",
              "    }\n",
              "\n",
              "    .dataframe thead th {\n",
              "        text-align: right;\n",
              "    }\n",
              "</style>\n",
              "<table border=\"1\" class=\"dataframe\">\n",
              "  <thead>\n",
              "    <tr style=\"text-align: right;\">\n",
              "      <th></th>\n",
              "      <th>sex_Male</th>\n",
              "      <th>smoker_Yes</th>\n",
              "      <th>day_Sat</th>\n",
              "      <th>day_Sun</th>\n",
              "      <th>day_Thur</th>\n",
              "      <th>time_Lunch</th>\n",
              "    </tr>\n",
              "  </thead>\n",
              "  <tbody>\n",
              "    <tr>\n",
              "      <th>0</th>\n",
              "      <td>0</td>\n",
              "      <td>0</td>\n",
              "      <td>0</td>\n",
              "      <td>1</td>\n",
              "      <td>0</td>\n",
              "      <td>0</td>\n",
              "    </tr>\n",
              "    <tr>\n",
              "      <th>1</th>\n",
              "      <td>1</td>\n",
              "      <td>0</td>\n",
              "      <td>0</td>\n",
              "      <td>1</td>\n",
              "      <td>0</td>\n",
              "      <td>0</td>\n",
              "    </tr>\n",
              "    <tr>\n",
              "      <th>2</th>\n",
              "      <td>1</td>\n",
              "      <td>0</td>\n",
              "      <td>0</td>\n",
              "      <td>1</td>\n",
              "      <td>0</td>\n",
              "      <td>0</td>\n",
              "    </tr>\n",
              "    <tr>\n",
              "      <th>3</th>\n",
              "      <td>1</td>\n",
              "      <td>0</td>\n",
              "      <td>0</td>\n",
              "      <td>1</td>\n",
              "      <td>0</td>\n",
              "      <td>0</td>\n",
              "    </tr>\n",
              "    <tr>\n",
              "      <th>4</th>\n",
              "      <td>0</td>\n",
              "      <td>0</td>\n",
              "      <td>0</td>\n",
              "      <td>1</td>\n",
              "      <td>0</td>\n",
              "      <td>0</td>\n",
              "    </tr>\n",
              "  </tbody>\n",
              "</table>\n",
              "</div>"
            ],
            "text/plain": [
              "   sex_Male  smoker_Yes  day_Sat  day_Sun  day_Thur  time_Lunch\n",
              "0         0           0        0        1         0           0\n",
              "1         1           0        0        1         0           0\n",
              "2         1           0        0        1         0           0\n",
              "3         1           0        0        1         0           0\n",
              "4         0           0        0        1         0           0"
            ]
          },
          "metadata": {}
        }
      ],
      "id": "ruS7FI5s5Jt2"
    },
    {
      "cell_type": "code",
      "source": "# extracting numerical columns\ntips_df_num = tips_df.drop(columns=tips_df_cat_cols.columns) \ntips_df_num.head()",
      "metadata": {},
      "execution_count": 31,
      "outputs": [
        {
          "execution_count": 31,
          "output_type": "execute_result",
          "data": {
            "text/html": [
              "<div>\n",
              "<style scoped>\n",
              "    .dataframe tbody tr th:only-of-type {\n",
              "        vertical-align: middle;\n",
              "    }\n",
              "\n",
              "    .dataframe tbody tr th {\n",
              "        vertical-align: top;\n",
              "    }\n",
              "\n",
              "    .dataframe thead th {\n",
              "        text-align: right;\n",
              "    }\n",
              "</style>\n",
              "<table border=\"1\" class=\"dataframe\">\n",
              "  <thead>\n",
              "    <tr style=\"text-align: right;\">\n",
              "      <th></th>\n",
              "      <th>total_bill</th>\n",
              "      <th>tip</th>\n",
              "      <th>size</th>\n",
              "    </tr>\n",
              "  </thead>\n",
              "  <tbody>\n",
              "    <tr>\n",
              "      <th>0</th>\n",
              "      <td>16.99</td>\n",
              "      <td>1.01</td>\n",
              "      <td>2</td>\n",
              "    </tr>\n",
              "    <tr>\n",
              "      <th>1</th>\n",
              "      <td>10.34</td>\n",
              "      <td>1.66</td>\n",
              "      <td>3</td>\n",
              "    </tr>\n",
              "    <tr>\n",
              "      <th>2</th>\n",
              "      <td>21.01</td>\n",
              "      <td>3.50</td>\n",
              "      <td>3</td>\n",
              "    </tr>\n",
              "    <tr>\n",
              "      <th>3</th>\n",
              "      <td>23.68</td>\n",
              "      <td>3.31</td>\n",
              "      <td>2</td>\n",
              "    </tr>\n",
              "    <tr>\n",
              "      <th>4</th>\n",
              "      <td>24.59</td>\n",
              "      <td>3.61</td>\n",
              "      <td>4</td>\n",
              "    </tr>\n",
              "  </tbody>\n",
              "</table>\n",
              "</div>"
            ],
            "text/plain": [
              "   total_bill   tip  size\n",
              "0       16.99  1.01     2\n",
              "1       10.34  1.66     3\n",
              "2       21.01  3.50     3\n",
              "3       23.68  3.31     2\n",
              "4       24.59  3.61     4"
            ]
          },
          "metadata": {}
        }
      ],
      "id": "fbf5047b"
    },
    {
      "cell_type": "code",
      "source": "# concatenating the two dataframes - categorical and numerical\ntips_df = pd.concat([tips_df_num, tips_df_cat], axis=1)",
      "metadata": {},
      "execution_count": 32,
      "outputs": [],
      "id": "cb532fbf"
    },
    {
      "cell_type": "code",
      "source": "# Storing the target column 'tip' in y variable\ny = tips_df[['tip']]\ny.head()",
      "metadata": {},
      "execution_count": 33,
      "outputs": [
        {
          "execution_count": 33,
          "output_type": "execute_result",
          "data": {
            "text/html": [
              "<div>\n",
              "<style scoped>\n",
              "    .dataframe tbody tr th:only-of-type {\n",
              "        vertical-align: middle;\n",
              "    }\n",
              "\n",
              "    .dataframe tbody tr th {\n",
              "        vertical-align: top;\n",
              "    }\n",
              "\n",
              "    .dataframe thead th {\n",
              "        text-align: right;\n",
              "    }\n",
              "</style>\n",
              "<table border=\"1\" class=\"dataframe\">\n",
              "  <thead>\n",
              "    <tr style=\"text-align: right;\">\n",
              "      <th></th>\n",
              "      <th>tip</th>\n",
              "    </tr>\n",
              "  </thead>\n",
              "  <tbody>\n",
              "    <tr>\n",
              "      <th>0</th>\n",
              "      <td>1.01</td>\n",
              "    </tr>\n",
              "    <tr>\n",
              "      <th>1</th>\n",
              "      <td>1.66</td>\n",
              "    </tr>\n",
              "    <tr>\n",
              "      <th>2</th>\n",
              "      <td>3.50</td>\n",
              "    </tr>\n",
              "    <tr>\n",
              "      <th>3</th>\n",
              "      <td>3.31</td>\n",
              "    </tr>\n",
              "    <tr>\n",
              "      <th>4</th>\n",
              "      <td>3.61</td>\n",
              "    </tr>\n",
              "  </tbody>\n",
              "</table>\n",
              "</div>"
            ],
            "text/plain": [
              "    tip\n",
              "0  1.01\n",
              "1  1.66\n",
              "2  3.50\n",
              "3  3.31\n",
              "4  3.61"
            ]
          },
          "metadata": {}
        }
      ],
      "id": "1f7f6b9f"
    },
    {
      "cell_type": "code",
      "source": "# Storing rest of the columns in X variable\n# X = tips_df_num\nX = tips_df.drop('tip', axis=1)\nX.head()",
      "metadata": {},
      "execution_count": 34,
      "outputs": [
        {
          "execution_count": 34,
          "output_type": "execute_result",
          "data": {
            "text/html": [
              "<div>\n",
              "<style scoped>\n",
              "    .dataframe tbody tr th:only-of-type {\n",
              "        vertical-align: middle;\n",
              "    }\n",
              "\n",
              "    .dataframe tbody tr th {\n",
              "        vertical-align: top;\n",
              "    }\n",
              "\n",
              "    .dataframe thead th {\n",
              "        text-align: right;\n",
              "    }\n",
              "</style>\n",
              "<table border=\"1\" class=\"dataframe\">\n",
              "  <thead>\n",
              "    <tr style=\"text-align: right;\">\n",
              "      <th></th>\n",
              "      <th>total_bill</th>\n",
              "      <th>size</th>\n",
              "      <th>sex_Male</th>\n",
              "      <th>smoker_Yes</th>\n",
              "      <th>day_Sat</th>\n",
              "      <th>day_Sun</th>\n",
              "      <th>day_Thur</th>\n",
              "      <th>time_Lunch</th>\n",
              "    </tr>\n",
              "  </thead>\n",
              "  <tbody>\n",
              "    <tr>\n",
              "      <th>0</th>\n",
              "      <td>16.99</td>\n",
              "      <td>2</td>\n",
              "      <td>0</td>\n",
              "      <td>0</td>\n",
              "      <td>0</td>\n",
              "      <td>1</td>\n",
              "      <td>0</td>\n",
              "      <td>0</td>\n",
              "    </tr>\n",
              "    <tr>\n",
              "      <th>1</th>\n",
              "      <td>10.34</td>\n",
              "      <td>3</td>\n",
              "      <td>1</td>\n",
              "      <td>0</td>\n",
              "      <td>0</td>\n",
              "      <td>1</td>\n",
              "      <td>0</td>\n",
              "      <td>0</td>\n",
              "    </tr>\n",
              "    <tr>\n",
              "      <th>2</th>\n",
              "      <td>21.01</td>\n",
              "      <td>3</td>\n",
              "      <td>1</td>\n",
              "      <td>0</td>\n",
              "      <td>0</td>\n",
              "      <td>1</td>\n",
              "      <td>0</td>\n",
              "      <td>0</td>\n",
              "    </tr>\n",
              "    <tr>\n",
              "      <th>3</th>\n",
              "      <td>23.68</td>\n",
              "      <td>2</td>\n",
              "      <td>1</td>\n",
              "      <td>0</td>\n",
              "      <td>0</td>\n",
              "      <td>1</td>\n",
              "      <td>0</td>\n",
              "      <td>0</td>\n",
              "    </tr>\n",
              "    <tr>\n",
              "      <th>4</th>\n",
              "      <td>24.59</td>\n",
              "      <td>4</td>\n",
              "      <td>0</td>\n",
              "      <td>0</td>\n",
              "      <td>0</td>\n",
              "      <td>1</td>\n",
              "      <td>0</td>\n",
              "      <td>0</td>\n",
              "    </tr>\n",
              "  </tbody>\n",
              "</table>\n",
              "</div>"
            ],
            "text/plain": [
              "   total_bill  size  sex_Male  smoker_Yes  day_Sat  day_Sun  day_Thur  \\\n",
              "0       16.99     2         0           0        0        1         0   \n",
              "1       10.34     3         1           0        0        1         0   \n",
              "2       21.01     3         1           0        0        1         0   \n",
              "3       23.68     2         1           0        0        1         0   \n",
              "4       24.59     4         0           0        0        1         0   \n",
              "\n",
              "   time_Lunch  \n",
              "0           0  \n",
              "1           0  \n",
              "2           0  \n",
              "3           0  \n",
              "4           0  "
            ]
          },
          "metadata": {}
        }
      ],
      "id": "5bbdce75"
    },
    {
      "cell_type": "markdown",
      "source": "### 22. Split the dataset into two parts (i.e. 70% train and 30% test), and Standardize the columns \"total_bill\" and \"size\" using the min_max scaling approach",
      "metadata": {
        "id": "6jnqKmXQ5KB9"
      },
      "id": "6jnqKmXQ5KB9"
    },
    {
      "cell_type": "code",
      "source": "# splitting dataset into train-test subsets\nX_train, X_test, y_train, y_test = train_test_split(X, y, test_size=0.3)\nprint(X_train.shape, X_test.shape, y_train.shape, y_test.shape)",
      "metadata": {
        "id": "l-jHM1e_5OSp"
      },
      "execution_count": 35,
      "outputs": [
        {
          "name": "stdout",
          "output_type": "stream",
          "text": "(170, 8) (74, 8) (170, 1) (74, 1)\n"
        }
      ],
      "id": "l-jHM1e_5OSp"
    },
    {
      "cell_type": "code",
      "source": "# Standardization of columns \"total_bill\" and \"size\" using min-max scaling approach\ntips_df['total_bill'] = (tips_df['total_bill'] - tips_df['total_bill'].min()) / (tips_df['total_bill'].max() - tips_df['total_bill'].min())\ntips_df['size'] = (tips_df['size'] - tips_df['size'].min()) / (tips_df['size'].max() - tips_df['size'].min())\ntips_df[['total_bill', 'size']].sample(n=5, axis='rows')",
      "metadata": {},
      "execution_count": 36,
      "outputs": [
        {
          "execution_count": 36,
          "output_type": "execute_result",
          "data": {
            "text/html": [
              "<div>\n",
              "<style scoped>\n",
              "    .dataframe tbody tr th:only-of-type {\n",
              "        vertical-align: middle;\n",
              "    }\n",
              "\n",
              "    .dataframe tbody tr th {\n",
              "        vertical-align: top;\n",
              "    }\n",
              "\n",
              "    .dataframe thead th {\n",
              "        text-align: right;\n",
              "    }\n",
              "</style>\n",
              "<table border=\"1\" class=\"dataframe\">\n",
              "  <thead>\n",
              "    <tr style=\"text-align: right;\">\n",
              "      <th></th>\n",
              "      <th>total_bill</th>\n",
              "      <th>size</th>\n",
              "    </tr>\n",
              "  </thead>\n",
              "  <tbody>\n",
              "    <tr>\n",
              "      <th>219</th>\n",
              "      <td>0.567030</td>\n",
              "      <td>0.6</td>\n",
              "    </tr>\n",
              "    <tr>\n",
              "      <th>75</th>\n",
              "      <td>0.155844</td>\n",
              "      <td>0.2</td>\n",
              "    </tr>\n",
              "    <tr>\n",
              "      <th>158</th>\n",
              "      <td>0.216171</td>\n",
              "      <td>0.2</td>\n",
              "    </tr>\n",
              "    <tr>\n",
              "      <th>188</th>\n",
              "      <td>0.315878</td>\n",
              "      <td>0.4</td>\n",
              "    </tr>\n",
              "    <tr>\n",
              "      <th>38</th>\n",
              "      <td>0.327189</td>\n",
              "      <td>0.4</td>\n",
              "    </tr>\n",
              "  </tbody>\n",
              "</table>\n",
              "</div>"
            ],
            "text/plain": [
              "     total_bill  size\n",
              "219    0.567030   0.6\n",
              "75     0.155844   0.2\n",
              "158    0.216171   0.2\n",
              "188    0.315878   0.4\n",
              "38     0.327189   0.4"
            ]
          },
          "metadata": {}
        }
      ],
      "id": "caaec77f"
    },
    {
      "cell_type": "markdown",
      "source": "### 23. Train a linear regression model using the training data and print the r_squared value of the prediction on the test data.",
      "metadata": {
        "id": "6L5jwTPW5Oh-"
      },
      "id": "6L5jwTPW5Oh-"
    },
    {
      "cell_type": "code",
      "source": "# creating an instance of the Linear Regression Python object\nmodel = LinearRegression()\n\n# training this model\nmodel.fit(X_train, y_train)\n\n# predictions on the test data\npredictions = model.predict(X_test)\n\nprint(r2_score(y_test, predictions))",
      "metadata": {
        "id": "HODaP3gg5SHY"
      },
      "execution_count": 37,
      "outputs": [
        {
          "name": "stdout",
          "output_type": "stream",
          "text": "0.47112072283461237\n"
        }
      ],
      "id": "HODaP3gg5SHY"
    },
    {
      "cell_type": "code",
      "source": "plt.scatter(y_test, predictions)",
      "metadata": {},
      "execution_count": 38,
      "outputs": [
        {
          "execution_count": 38,
          "output_type": "execute_result",
          "data": {
            "text/plain": [
              "<matplotlib.collections.PathCollection at 0x1bec0a6b1f0>"
            ]
          },
          "metadata": {}
        },
        {
          "output_type": "display_data",
          "data": {
            "image/png": "[encoded data removed]",
            "text/plain": [
              "<Figure size 640x480 with 1 Axes>"
            ]
          },
          "metadata": {}
        }
      ],
      "id": "4dfecf0a"
    },
    {
      "cell_type": "markdown",
      "source": "<ul>\n    <li>From the above findings, we can see that when encoded categorical columns are included, the model can predict the tip amount with low to moderate accuracy.</li>\n    <li>If we include only numerical columns, the model can predict the tip amount with high accuracy.</li>\n</ul>",
      "metadata": {},
      "id": "b7ecf2fe"
    },
    {
      "cell_type": "markdown",
      "source": "### Happy Learning:)",
      "metadata": {
        "id": "388b6163"
      },
      "id": "388b6163"
    }
  ]
}